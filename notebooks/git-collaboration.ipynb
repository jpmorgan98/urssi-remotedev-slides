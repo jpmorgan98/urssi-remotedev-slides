{
 "cells": [
  {
   "cell_type": "markdown",
   "id": "85908cd7-1a7a-4bd2-a942-14d306be7dad",
   "metadata": {
    "editable": true,
    "slideshow": {
     "slide_type": "slide"
    },
    "tags": []
   },
   "source": [
    "# Remote Devlopment on HPCs\n",
    "\n",
    "[Joanna Piper Morgan](https://jpmorgan98.github.io/)\n",
    "\n",
    "Oregon State University"
   ]
  },
  {
   "cell_type": "markdown",
   "id": "60180e7b-c4a7-41b9-97fa-d2e3e6433854",
   "metadata": {
    "editable": true,
    "slideshow": {
     "slide_type": "subslide"
    },
    "tags": []
   },
   "source": [
    "### Lesson Objectives \n",
    "* Review git commands\n",
    "* Describe individual and collaborative workflows with git\n",
    "* Introduce git commands for collaborative workflows \n",
    "* Demo of collaborative workflows in practice\n",
    "* See additional useful git tips/tricks "
   ]
  },
  {
   "cell_type": "markdown",
   "id": "059ecc7b-4de6-43ac-bda9-7154e0c2be10",
   "metadata": {
    "editable": true,
    "slideshow": {
     "slide_type": "subslide"
    },
    "tags": []
   },
   "source": [
    "# Acknowledgements \n",
    "\n",
    "This material is heavily influenced by the previous works of [Karthik Ram](https://inundata.org/talks/git-collaboration/#/) and [James Howison](https://jameshowison.github.io/peer_production_course/docs/additional_git_exercises.html) from the previous summer school\n",
    "\n",
    "Other Resources I have found helpful/fun for git\n",
    "* https://git-school.github.io/visualizing-git/\n",
    "* https://pcottle.github.io/learnGitBranching/?NODEMO\n",
    "* https://allisonhorst.com/git-github\n",
    "* https://jvns.ca/blog/2023/11/23/branches-intuition-reality/\n",
    "* https://git-scm.com/docs\n",
    "* https://swcarpentry.github.io/git-novice/"
   ]
  },
  {
   "cell_type": "markdown",
   "id": "f0a18147-2b63-4b9d-b785-2b38d507ba0e",
   "metadata": {
    "editable": true,
    "slideshow": {
     "slide_type": "slide"
    },
    "tags": []
   },
   "source": [
    "# Workflows with git "
   ]
  },
  {
   "cell_type": "markdown",
   "id": "e04e5c97-73b9-448d-8b4c-e59d3d7e04ae",
   "metadata": {
    "editable": true,
    "slideshow": {
     "slide_type": "subslide"
    },
    "tags": []
   },
   "source": [
    "# An Individual Workflow (without a remote) \n",
    "\n",
    "commit, commit, commit ..... \n",
    "\n",
    "```console\n",
    "madicken@computer: ~/repos/research-code $ git init\n",
    "Initialized empty Git repository in /Users/madicken/repos/research-code/.git/\n",
    "madicken@computer: ~/repos/research-code $ git branch -M main\n",
    "madicken@computer: ~/repos/research-code $ git add README.md\n",
    "madicken@computer: ~/repos/research-code $ git commit -m 'add readme with code description'\n",
    "[main (root-commit) 49c9e77] add readme with code description\n",
    " 1 file changed, 0 insertions(+), 0 deletions(-)\n",
    " create mode 100644 README.md\n",
    "```"
   ]
  },
  {
   "cell_type": "markdown",
   "id": "845d51c6-6447-4e73-8430-e7cfb528c9ba",
   "metadata": {
    "editable": true,
    "slideshow": {
     "slide_type": "subslide"
    },
    "tags": []
   },
   "source": [
    "# An Individual Workflow (with a remote) \n",
    "\n",
    "commit push, commit commit push, commit push ..... \n",
    "\n",
    "\n",
    "```console\n",
    "madicken@computer: ~/repos/research-code $ git remote add origin git@github.com:munkm/research-code.git\n",
    "madicken@computer: ~/repos/research-code $ git push -u origin main \n",
    "Enumerating objects: 13, done.\n",
    "Counting objects: 100% (13/13), done.\n",
    "Delta compression using up to 4 threads\n",
    "Compressing objects: 100% (11/11), done.\n",
    "Writing objects: 100% (13/13), 8.03 KiB | 4.01 MiB/s, done.\n",
    "Total 13 (delta 1), reused 0 (delta 0), pack-reused 0\n",
    "remote: Resolving deltas: 100% (1/1), done.\n",
    "To github.com:munkm/research-code.git\n",
    " * [new branch]      main -> main\n",
    "Branch 'main' set up to track remote branch 'main' from 'origin' by rebasing.\n",
    "madicken@computer: ~/repos/research-code $ git add LICENSE\n",
    "madicken@computer: ~/repos/research-code $ git commit -m 'add BSD-3 license for my code'\n",
    "[main 6c65ead] add license\n",
    " 1 file changed, 401 insertions(+)\n",
    " create mode 100644 LICENSE\n",
    "madicken@computer: ~/repos/research-code $ git push \n",
    "```\n",
    "\n",
    "With your code on a remote (like github, gitlab, or an internal server for your lab), your work is easily accessed by peers!"
   ]
  },
  {
   "cell_type": "markdown",
   "id": "1884436c-e37c-4a2f-b47b-4b67fbc110e0",
   "metadata": {
    "editable": true,
    "slideshow": {
     "slide_type": "subslide"
    },
    "tags": []
   },
   "source": [
    "# ... But what about working with others? "
   ]
  },
  {
   "cell_type": "markdown",
   "id": "10548ed0-46a4-47a9-a3bf-9b10bd07b5e5",
   "metadata": {
    "editable": true,
    "slideshow": {
     "slide_type": "subslide"
    },
    "tags": []
   },
   "source": [
    "# Centralized Workflow\n",
    "All members work on the same repository "
   ]
  },
  {
   "cell_type": "markdown",
   "id": "035d017c-e2b1-4295-8585-2dca0deb96cc",
   "metadata": {
    "editable": true,
    "slideshow": {
     "slide_type": "subslide"
    },
    "tags": []
   },
   "source": [
    "# Centralized Workflow\n",
    "**git pull** before starting work\n",
    "\n",
    "Everyone commits to main\n",
    "\n",
    "**git push**\n",
    "\n",
    "If there is no merge conflict, 🙌\n",
    "\n",
    "Otherwise fix merge conflict, then push\n"
   ]
  },
  {
   "cell_type": "markdown",
   "id": "a107e7db-048b-4e1e-a5dd-11a6d232932d",
   "metadata": {
    "editable": true,
    "slideshow": {
     "slide_type": "subslide"
    },
    "tags": []
   },
   "source": [
    "# Feature Branching Workflow \n",
    "Members work on the same repository but use individual branches to do feature development "
   ]
  },
  {
   "cell_type": "markdown",
   "id": "0935adbd-a1a1-4c82-8247-d5e0a9c178cc",
   "metadata": {
    "editable": true,
    "slideshow": {
     "slide_type": "subslide"
    },
    "tags": []
   },
   "source": [
    "# Feature Branching Workflow\n",
    "\n",
    "Create and switch to a branch\n",
    "\n",
    "Add commits\n",
    "\n",
    "Push feature branch to GitHub\n",
    "\n",
    "Start a pull request\n",
    "\n",
    "Discuss, add more commits, merge"
   ]
  },
  {
   "cell_type": "markdown",
   "id": "ac20d86d-3292-41b9-b4d1-a2caecb4b211",
   "metadata": {
    "editable": true,
    "slideshow": {
     "slide_type": "subslide"
    },
    "tags": []
   },
   "source": [
    "Some important commands for this workflow:\n",
    "* `git branch`\n",
    "* `git checkout -b <branchname>`\n",
    "* `git push -u origin <branchname>`"
   ]
  },
  {
   "cell_type": "markdown",
   "id": "92548d23-289d-4450-9905-ce9374d97303",
   "metadata": {
    "editable": true,
    "slideshow": {
     "slide_type": "fragment"
    },
    "tags": []
   },
   "source": [
    ".. add some more commits \n",
    "\n",
    "then `git push` and _open a pull request_"
   ]
  },
  {
   "cell_type": "markdown",
   "id": "c62f273b-224d-4ea2-9b7a-ebb4723eea0f",
   "metadata": {
    "editable": true,
    "slideshow": {
     "slide_type": "subslide"
    },
    "tags": []
   },
   "source": [
    "# Pull Requests \n",
    "\n",
    "Pull requests are an excellent tool for **fostering code review**. If you’re using Github for team projects, _you should be using these extensively_."
   ]
  },
  {
   "cell_type": "markdown",
   "id": "74cce5d3-b192-4890-b2dd-80d1b32670a5",
   "metadata": {
    "editable": true,
    "slideshow": {
     "slide_type": "subslide"
    },
    "tags": []
   },
   "source": [
    "## Pull request best practices: \n",
    "\n",
    "A good practice is for someone else to merge your code into master, ensuring two people understand each feature. Sometimes a reviewer may not have merge rights; in these cases the requirement may be an approving review must be given before the feature is merged. "
   ]
  },
  {
   "cell_type": "markdown",
   "id": "eed1e0aa-7b90-473f-a720-a7fdbe2dcd02",
   "metadata": {
    "editable": true,
    "slideshow": {
     "slide_type": "subslide"
    },
    "tags": []
   },
   "source": [
    "## Pull request tip: \n",
    "\n",
    "Using the github interface, you can change the target of a pull request. The default is to the `main` branch, but it could be another feature branch. This can be used if you want to help develop a feature branch outside of `main` with a collaborator. "
   ]
  },
  {
   "cell_type": "markdown",
   "id": "9f822821-217d-4b19-8e8d-a81f55e738dc",
   "metadata": {
    "editable": true,
    "slideshow": {
     "slide_type": "fragment"
    },
    "tags": []
   },
   "source": [
    "⛔️ Never send a pull request from master 🙅"
   ]
  },
  {
   "cell_type": "markdown",
   "id": "5858758c-02fd-49fa-8176-3125ce9026f9",
   "metadata": {
    "editable": true,
    "slideshow": {
     "slide_type": "fragment"
    },
    "tags": []
   },
   "source": [
    "⛔️ Never send a large pull request without notice 🙅"
   ]
  },
  {
   "cell_type": "markdown",
   "id": "ad06686b-47cb-4182-83e7-7f551103117a",
   "metadata": {
    "editable": true,
    "slideshow": {
     "slide_type": "subslide"
    },
    "tags": []
   },
   "source": [
    "# Forking Workflow \n",
    "\n",
    "In this workflow each collaborator \"forks\" a copy of the centralized repository. These forks represent individual remote repositories for each collaborator. Collaborators submit pull requests from their forks to the centralized repository. "
   ]
  },
  {
   "cell_type": "markdown",
   "id": "313fc70a-6294-45f1-97eb-1ef47ef36a8d",
   "metadata": {
    "editable": true,
    "slideshow": {
     "slide_type": "subslide"
    },
    "tags": []
   },
   "source": [
    "# Forking Workflow \n",
    "\n",
    "Everyone has a fork of a \"central\" repository\n",
    "\n",
    "Add commits to feature branches\n",
    "\n",
    "Push feature branches to individual forks \n",
    "\n",
    "Send pull-request from feature branch on fork to central repository"
   ]
  },
  {
   "cell_type": "markdown",
   "id": "4a2d4ead-a911-4f1d-b715-8eadccf6257a",
   "metadata": {
    "editable": true,
    "slideshow": {
     "slide_type": "subslide"
    },
    "tags": []
   },
   "source": [
    "# Extra Tips: "
   ]
  },
  {
   "cell_type": "markdown",
   "id": "45213432-ec9d-4f6f-b367-7a0917f4cbef",
   "metadata": {
    "editable": true,
    "slideshow": {
     "slide_type": "fragment"
    },
    "tags": []
   },
   "source": [
    "Tip #1:  Always git pull before you start new work"
   ]
  },
  {
   "cell_type": "markdown",
   "id": "4a3a7304-0b6d-421e-b5c1-fedc16956bfe",
   "metadata": {
    "editable": true,
    "slideshow": {
     "slide_type": "fragment"
    },
    "tags": []
   },
   "source": [
    "Tip #2:  Keep branch names descriptive"
   ]
  },
  {
   "cell_type": "markdown",
   "id": "1f32794e-6b53-4a18-98c7-33af3a6c930c",
   "metadata": {
    "editable": true,
    "slideshow": {
     "slide_type": "fragment"
    },
    "tags": []
   },
   "source": [
    "Tip #3:  Generously use branches (but delete them when they're merged or stale)"
   ]
  },
  {
   "cell_type": "markdown",
   "id": "7bc250c7-f600-4b3b-8622-f04236c9eb53",
   "metadata": {
    "editable": true,
    "slideshow": {
     "slide_type": "fragment"
    },
    "tags": []
   },
   "source": [
    "Tip #4:  Use [github command line tool](https://github.com/cli/cli#installation) (gh) to simplify your workflow"
   ]
  },
  {
   "cell_type": "markdown",
   "id": "fc4bae44-228a-4b8b-bbcc-243cc1025ea4",
   "metadata": {
    "editable": true,
    "slideshow": {
     "slide_type": "slide"
    },
    "tags": []
   },
   "source": [
    "# More useful git commands "
   ]
  },
  {
   "cell_type": "markdown",
   "id": "dcb8a243-07a6-4298-9463-f86881e789e6",
   "metadata": {
    "editable": true,
    "slideshow": {
     "slide_type": "subslide"
    },
    "tags": []
   },
   "source": [
    "#### [tagging commits](https://git-scm.com/book/en/v2/Git-Basics-Tagging)\n",
    "\n",
    "branches are special labels that track a series of commits, but what if you want a special name for a particular commit (like when you released a new version of your code)? you can \"tag\" these \n",
    "\n",
    "* `git tag -a <tagname> <hash>`  -- useful for tagging a particular commit farther back in history\n",
    "* `git tag -a <tagname> -m \"tag message\"` -- this should tag the current commit with a descriptive message \n",
    "* `git push origin <tagname>` -- push a particular tag up to your remote\n",
    "* `git push origin --tags` -- push all of your tags up to your remote "
   ]
  },
  {
   "cell_type": "markdown",
   "id": "0e28555f-19e7-41c9-90cb-4390198f2984",
   "metadata": {
    "editable": true,
    "slideshow": {
     "slide_type": "subslide"
    },
    "tags": []
   },
   "source": [
    "#### amending a commit \n",
    "\n",
    "Oh no! I made a typo in my commit message! \n",
    "\n",
    "`git commit --amend` is useful for both fixing commit messages and for adding in files that were suppoosed to be committed and werent"
   ]
  },
  {
   "cell_type": "markdown",
   "id": "c82693ea-c776-420d-ae51-67bb7d7632ff",
   "metadata": {
    "editable": true,
    "slideshow": {
     "slide_type": "subslide"
    },
    "tags": []
   },
   "source": [
    "#### cherry picking \n",
    "\n",
    "What if you have a commit that really belongs on a different branch? Or in development you fixed a bug that you think should be in its own PR? You can \"cherry pick\" that commit to a new branch. \n",
    "\n",
    "`git cherry-pick <hash>`"
   ]
  },
  {
   "cell_type": "markdown",
   "id": "83fc2019-7244-46d7-b2e6-0a02c9047d9b",
   "metadata": {
    "editable": true,
    "slideshow": {
     "slide_type": "subslide"
    },
    "tags": []
   },
   "source": [
    "### undoing changes \n",
    "\n",
    "Reverting vs. Restoring \n"
   ]
  },
  {
   "cell_type": "markdown",
   "id": "96c0f31f-b465-4b2f-bd8b-ea5366f3da21",
   "metadata": {
    "editable": true,
    "slideshow": {
     "slide_type": "subslide"
    },
    "tags": []
   },
   "source": [
    "#### stashing changes \n",
    "\n",
    "oh no! I started making changes but I'm not on the feature branch I thought I was! \n",
    "\n",
    "`git stash` can be used to hide the changes in your working tree and then bring them back out when you're on the appropriate branch"
   ]
  },
  {
   "cell_type": "markdown",
   "id": "fe3b7f22-a885-4618-96ca-cd29d015bcb8",
   "metadata": {
    "editable": true,
    "slideshow": {
     "slide_type": "slide"
    },
    "tags": []
   },
   "source": [
    "# More resources\n",
    "* How to undo almost anything with git [link](https://github.blog/2015-06-08-how-to-undo-almost-anything-with-git/)\n",
    "* Remove sensitive data (like private keys) from a repository [link](https://docs.github.com/en/authentication/keeping-your-account-and-data-secure/removing-sensitive-data-from-a-repository)"
   ]
  },
  {
   "cell_type": "markdown",
   "id": "cc333f2b-eca8-4fe5-8161-81005f546f8b",
   "metadata": {
    "editable": true,
    "slideshow": {
     "slide_type": "slide"
    },
    "tags": []
   },
   "source": [
    "# Exercises"
   ]
  },
  {
   "cell_type": "markdown",
   "id": "49a0aa92-5289-4197-a400-7c1aec0fbabf",
   "metadata": {
    "editable": true,
    "slideshow": {
     "slide_type": ""
    },
    "tags": []
   },
   "source": []
  },
  {
   "cell_type": "code",
   "execution_count": null,
   "id": "0385703b-4649-445f-ab09-afedc02f79bb",
   "metadata": {
    "editable": true,
    "slideshow": {
     "slide_type": ""
    },
    "tags": []
   },
   "outputs": [],
   "source": []
  }
 ],
 "metadata": {
  "kernelspec": {
   "display_name": "Python 3 (ipykernel)",
   "language": "python",
   "name": "python3"
  },
  "language_info": {
   "codemirror_mode": {
    "name": "ipython",
    "version": 3
   },
   "file_extension": ".py",
   "mimetype": "text/x-python",
   "name": "python",
   "nbconvert_exporter": "python",
   "pygments_lexer": "ipython3",
   "version": "3.11.7"
  }
 },
 "nbformat": 4,
 "nbformat_minor": 5
}
