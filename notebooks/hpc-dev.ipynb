{
 "cells": [
  {
   "cell_type": "markdown",
   "id": "85908cd7-1a7a-4bd2-a942-14d306be7dad",
   "metadata": {
    "editable": true,
    "slideshow": {
     "slide_type": "slide"
    },
    "tags": []
   },
   "source": [
    "# Remote Devlopment on HPCs\n",
    "\n",
    "[Joanna Piper Morgan](https://jpmorgan98.github.io/)\n",
    "\n",
    "Oregon State University"
   ]
  },
  {
   "cell_type": "markdown",
   "id": "60180e7b-c4a7-41b9-97fa-d2e3e6433854",
   "metadata": {
    "editable": true,
    "slideshow": {
     "slide_type": "subslide"
    },
    "tags": []
   },
   "source": [
    "### Lesson Objectives \n",
    "* Review ssh configuring between an HPC and Github\n",
    "* Miniconda instilation and execution\n",
    "* Breif conversation about SLURM scheduler\n",
    "* Breif intro to module systems\n",
    "* Remote devlopment with VSCode!"
   ]
  },
  {
   "cell_type": "markdown",
   "id": "059ecc7b-4de6-43ac-bda9-7154e0c2be10",
   "metadata": {
    "editable": true,
    "slideshow": {
     "slide_type": "slide"
    },
    "tags": []
   },
   "source": [
    "# Some Links  \n",
    "\n",
    "These will be included in the useful links document as well:\n",
    "* [How to set up SSH keys](https://docs.github.com/en/authentication/connecting-to-github-with-ssh/generating-a-new-ssh-key-and-adding-it-to-the-ssh-agent)\n",
    "* [SLURM cheat sheet](https://bioinformaticsworkbook.org/Appendix/HPC/SLURM/slurm-cheatsheat.html#gsc.tab=0)\n",
    "* [Miniconda v Conda v Mamba](https://statistics.berkeley.edu/computing/conda)\n",
    "* [Module systems](https://hpc-wiki.info/hpc/Modules)\n",
    "\n",
    "Ask help from your HPC admins!!!!!"
   ]
  },
  {
   "cell_type": "markdown",
   "id": "c6623ab9",
   "metadata": {},
   "source": [
    "# WARNING \n",
    "\n",
    "*your mileage may vary*\n",
    "\n",
    "Both your project and its requiremnts/limitations and the HPC you run on will determine your experence. *there are no hard and fast rules*\n",
    "\n",
    "Between CPU arcetectures (x86, ARM64, POWER9, etc.), distributed memory parallelism (MPI), shared memory parallelism APIs (OpenMP, Pthreads), GPU Archetectures/APIs (Nvidia CUDA, AMD HIP, Intel SYCL, Apple Silicon), compiler toolchains (clang, gcc, cuda, Intel compilers, PGI, etc.) and whatever else will complicate this\n"
   ]
  },
  {
   "cell_type": "markdown",
   "id": "f0a18147-2b63-4b9d-b785-2b38d507ba0e",
   "metadata": {
    "editable": true,
    "slideshow": {
     "slide_type": "slide"
    },
    "tags": []
   },
   "source": [
    "# SSH Keys in Github\n",
    "\n",
    "`ssh-keygen -t ed25519`"
   ]
  },
  {
   "cell_type": "markdown",
   "id": "e04e5c97-73b9-448d-8b4c-e59d3d7e04ae",
   "metadata": {
    "editable": true,
    "slideshow": {
     "slide_type": "slide"
    },
    "tags": []
   },
   "source": [
    "# Minconda Install\n",
    "\n",
    "We rarely have admin provlidges on HPCs but we still need to install and run our software and its dependencies. We could build from source (often times for compiled codes using cmake) or we could use non-sudo package managers, in python this is commonly miniconda\n",
    "\n",
    "[Install insturctions](https://docs.conda.io/projects/miniconda/en/latest/)\n",
    "\n",
    "Install miniconda in your root directory:\n",
    "```\n",
    "mkdir -p ~/miniconda3\n",
    "wget https://repo.anaconda.com/miniconda/Miniconda3-latest-Linux-x86_64.sh -O ~/miniconda3/miniconda.sh\n",
    "bash ~/miniconda3/miniconda.sh -b -u -p ~/miniconda3\n",
    "rm -rf ~/miniconda3/miniconda.sh\n",
    "```\n",
    "Add miniconda to your bash/zhs scripts\n",
    "```\n",
    "~/miniconda3/bin/conda init bash\n",
    "```\n",
    "\n",
    "*[further reading on spack](https://spack.io/)*"
   ]
  },
  {
   "cell_type": "markdown",
   "id": "845d51c6-6447-4e73-8430-e7cfb528c9ba",
   "metadata": {
    "editable": true,
    "slideshow": {
     "slide_type": "slide"
    },
    "tags": []
   },
   "source": [
    "# SLURM\n",
    "\n",
    "* Launch an interactive node: `srun -N 1 --pty bash`\n",
    "* See the run queue: `squeue <USER_NAME>`\n",
    "* Cancle a Job: `scancel`\n",
    "* Schdule a batch script `bsub <BATCH_SCRIPT>`\n",
    "\n",
    "\n",
    "There are other batch scheulders (e.g. LSF) but most have a similar syntax"
   ]
  },
  {
   "cell_type": "markdown",
   "id": "1884436c-e37c-4a2f-b47b-4b67fbc110e0",
   "metadata": {
    "editable": true,
    "slideshow": {
     "slide_type": "subslide"
    },
    "tags": []
   },
   "source": [
    "# Module Systems"
   ]
  }
 ],
 "metadata": {
  "kernelspec": {
   "display_name": "Python 3 (ipykernel)",
   "language": "python",
   "name": "python3"
  },
  "language_info": {
   "codemirror_mode": {
    "name": "ipython",
    "version": 3
   },
   "file_extension": ".py",
   "mimetype": "text/x-python",
   "name": "python",
   "nbconvert_exporter": "python",
   "pygments_lexer": "ipython3",
   "version": "3.11.7"
  }
 },
 "nbformat": 4,
 "nbformat_minor": 5
}
