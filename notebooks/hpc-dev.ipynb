{
 "cells": [
  {
   "cell_type": "markdown",
   "id": "85908cd7-1a7a-4bd2-a942-14d306be7dad",
   "metadata": {
    "editable": true,
    "slideshow": {
     "slide_type": "slide"
    },
    "tags": []
   },
   "source": [
    "# Remote Devlopment on HPCs\n",
    "\n",
    "[Joanna Piper Morgan](https://jpmorgan98.github.io/)\n",
    "\n",
    "Oregon State University"
   ]
  },
  {
   "cell_type": "markdown",
   "id": "60180e7b-c4a7-41b9-97fa-d2e3e6433854",
   "metadata": {
    "editable": true,
    "slideshow": {
     "slide_type": "subslide"
    },
    "tags": []
   },
   "source": [
    "### Lesson Objectives \n",
    "* review ssh configuring between an HPC and Github\n",
    "* miniconda instilation and execution\n",
    "* breif conversation about SLURM scheduler\n",
    "* breif intro to module systems\n",
    "* remote devlopment with VSCode!"
   ]
  },
  {
   "cell_type": "markdown",
   "id": "059ecc7b-4de6-43ac-bda9-7154e0c2be10",
   "metadata": {
    "editable": true,
    "slideshow": {
     "slide_type": "subslide"
    },
    "tags": []
   },
   "source": [
    "# Some Links  \n",
    "\n",
    "these will be included in the useful links document as well:\n",
    "* [How to set up SSH keys](https://docs.github.com/en/authentication/connecting-to-github-with-ssh/generating-a-new-ssh-key-and-adding-it-to-the-ssh-agent)\n",
    "* [SLURM cheat sheet](https://bioinformaticsworkbook.org/Appendix/HPC/SLURM/slurm-cheatsheat.html#gsc.tab=0)\n",
    "* [Miniconda v Conda v Mamba](https://statistics.berkeley.edu/computing/conda)\n",
    "* [Module systems](https://hpc-wiki.info/hpc/Modules)\n",
    "\n",
    "ask help from your HPC admins!!!!!"
   ]
  },
  {
   "cell_type": "markdown",
   "id": "c6623ab9",
   "metadata": {
    "slideshow": {
     "slide_type": "subslide"
    }
   },
   "source": [
    "# *WARNING*\n",
    "\n",
    "*your mileage may vary*\n",
    "\n",
    "both your project and its requiremnts/limitations and the HPC you run on will determine your experence. *There are no hard and fast rules*"
   ]
  },
  {
   "cell_type": "markdown",
   "id": "f0a18147-2b63-4b9d-b785-2b38d507ba0e",
   "metadata": {
    "editable": true,
    "slideshow": {
     "slide_type": "subslide"
    },
    "tags": []
   },
   "source": [
    "# SSH Keys in Github\n",
    "\n",
    "gotta have em: \n",
    "\n",
    "cus I always forget: `ssh-keygen -t ed25519`"
   ]
  },
  {
   "cell_type": "markdown",
   "id": "e04e5c97-73b9-448d-8b4c-e59d3d7e04ae",
   "metadata": {
    "editable": true,
    "slideshow": {
     "slide_type": "subslide"
    },
    "tags": []
   },
   "source": [
    "# Minconda Install\n",
    "\n",
    "We rarely have admin provlidges on HPCs but we still need to install and run our software and its dependencies. We could build from source (often times for compiled codes using cmake) or we could use non-sudo package managers, in python this is commonly miniconda\n",
    "\n",
    "[Install insturctions](https://docs.conda.io/projects/miniconda/en/latest/)\n",
    "\n",
    "Install miniconda in your root directory:\n",
    "```\n",
    "mkdir -p ~/miniconda3\n",
    "wget https://repo.anaconda.com/miniconda/Miniconda3-latest-Linux-x86_64.sh -O ~/miniconda3/miniconda.sh\n",
    "bash ~/miniconda3/miniconda.sh -b -u -p ~/miniconda3\n",
    "rm -rf ~/miniconda3/miniconda.sh\n",
    "```\n",
    "Add miniconda to your bash/zhs scripts\n",
    "```\n",
    "~/miniconda3/bin/conda init bash\n",
    "```\n",
    "\n",
    "Other package mangers purpose built for HPCs are avaliable---*[further reading on spack](https://spack.io/)*"
   ]
  },
  {
   "cell_type": "markdown",
   "id": "845d51c6-6447-4e73-8430-e7cfb528c9ba",
   "metadata": {
    "editable": true,
    "slideshow": {
     "slide_type": "subslide"
    },
    "tags": []
   },
   "source": [
    "# SLURM\n",
    "\n",
    "* Launch an interactive node: `srun -N 1 --pty bash` or `salloc`\n",
    "* See the run queue: `squeue <USER_NAME>`\n",
    "* Cancle a Job: `scancel <JOB_ID>`\n",
    "* Schdule a batch script `sbatch <BATCH_SCRIPT>`\n",
    "\n",
    "\n",
    "There are other batch scheulders (e.g. LSF) but most have a similar syntax"
   ]
  },
  {
   "cell_type": "markdown",
   "id": "1884436c-e37c-4a2f-b47b-4b67fbc110e0",
   "metadata": {
    "editable": true,
    "slideshow": {
     "slide_type": "subslide"
    },
    "tags": []
   },
   "source": [
    "# Module Systems\n",
    "\n",
    "HPCs often have wayyyyyyyy more installed code than you need\n",
    "\n",
    "modules simplify this by altering your path to configured packages\n",
    "\n",
    "often this is for copmilers (e.g. clang, gcc, cuda, etc.)"
   ]
  },
  {
   "cell_type": "markdown",
   "id": "a2fdc55d",
   "metadata": {
    "slideshow": {
     "slide_type": "subslide"
    }
   },
   "source": [
    "# Remote work with VSCode\n",
    "\n",
    "while vim and emacs exist---why drive a chevy when you can drive a cadillac?\n",
    "\n",
    "support for any file under the sun, scp/ftp abilities, file browsing, multi-terminal functinoalities etc. etc.\n",
    "\n",
    "*note: is not supported in IBM POWER9 systems*"
   ]
  },
  {
   "cell_type": "markdown",
   "id": "300d3d81",
   "metadata": {},
   "source": []
  }
 ],
 "metadata": {
  "kernelspec": {
   "display_name": "Python 3 (ipykernel)",
   "language": "python",
   "name": "python3"
  },
  "language_info": {
   "codemirror_mode": {
    "name": "ipython",
    "version": 3
   },
   "file_extension": ".py",
   "mimetype": "text/x-python",
   "name": "python",
   "nbconvert_exporter": "python",
   "pygments_lexer": "ipython3",
   "version": "3.11.7"
  }
 },
 "nbformat": 4,
 "nbformat_minor": 5
}
